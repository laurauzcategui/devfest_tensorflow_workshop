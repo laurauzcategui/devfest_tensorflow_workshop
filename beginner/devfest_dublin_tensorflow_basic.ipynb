{
  "nbformat": 4,
  "nbformat_minor": 0,
  "metadata": {
    "colab": {
      "name": "devfest_tensorflow_dublin_basic.ipynb",
      "provenance": [],
      "collapsed_sections": []
    },
    "kernelspec": {
      "name": "python3",
      "display_name": "Python 3"
    }
  },
  "cells": [
    {
      "cell_type": "markdown",
      "metadata": {
        "colab_type": "text",
        "id": "TxDbCY-mNLy9"
      },
      "source": [
        "# DevFest Dublin 2019 - Tensorflow and Keras - Part I\n",
        "\n",
        "author: [@laura_uzcategui](https://twitter.com/laura_uzcategui)<br />\n",
        "\n",
        "\n",
        "In this workshop you will learn a bit more about Machine Learning in general and you will build a model that will help you grasp the following: \n",
        "\n",
        "The workshop is divided in 2 sections, one for tackling the basics and to get you started in tensorflow and keras and the second part where we will be using a Convolutional Neural Net to build an image classifier\n",
        "\n",
        "**Part I**\n",
        "\n",
        "1. Basics of Tensorflow and Keras\n",
        "2. How to build a model \n",
        "3. What are Optimizer and Loss functions and why you need them?\n",
        "4. You will train a Model and get predictions \n",
        "\n",
        "**Part II**\n",
        "\n",
        "5. Preprocessing your data\n",
        "    1. Obtain your data\n",
        "    2. Load your data using image generator \n",
        "    3. Explore your data\n",
        "6. Image classification and Neural Networks\n",
        "    1. Build a model \n",
        "    2. Configure \n",
        "    3. Train your model\n",
        "    4. Test it :)\n",
        "\n",
        "**Bonus points:** If we have time, we will go through an explanation of Data Augmentation\n",
        "\n",
        "\n",
        "---\n",
        "\n",
        "## 1. Basics of Tensorflow and Keras \n",
        "\n",
        "\n",
        "Let's switch to Tensorflow 2.0 first and try its new exciting features."
      ]
    },
    {
      "cell_type": "code",
      "execution_count": 0,
      "metadata": {
        "colab": {},
        "colab_type": "code",
        "id": "35amjfUoSz2O"
      },
      "outputs": [],
      "source": [
        "# Let's install tensorflow 2.x first :)\n",
        "try:\n",
        "  # %tensorflow_version only exists in Colab.\n",
        "  %tensorflow_version 2.x\n",
        "except Exception:\n",
        "  pass\n"
      ]
    },
    {
      "cell_type": "markdown",
      "metadata": {
        "colab_type": "text",
        "id": "2GGHLpmYToBZ"
      },
      "source": [
        "Then we need to do is import our libraries. \n",
        "\n",
        "*   Tensorflow (tf)\n",
        "*   Numpy (np)\n",
        "\n",
        "**Activity**: Go ahead and try it out for yourself\n"
      ]
    },
    {
      "cell_type": "code",
      "execution_count": 0,
      "metadata": {
        "colab": {},
        "colab_type": "code",
        "id": "1XxFcQmyMtny"
      },
      "outputs": [],
      "source": [
        "### Import your libraries here\n",
        "# import x.y.z \n",
        "# from x import y \n"
      ]
    },
    {
      "cell_type": "code",
      "execution_count": 0,
      "metadata": {
        "colab": {},
        "colab_type": "code",
        "id": "DZXPrMS_Sm38"
      },
      "outputs": [],
      "source": [
        "# This should print 2.0.0\n",
        "print(tf.__version__)\n"
      ]
    },
    {
      "cell_type": "markdown",
      "metadata": {
        "colab_type": "text",
        "id": "Rzx65FsvSdlZ"
      },
      "source": [
        "### Let's build our first basic model \n",
        "\n",
        "Imagine you want to buy a certain amount of ________ (*fill in the space your favourite hobbie, article, food, etc.) and imagine you have a lot of money*. \n",
        "\n",
        "You will be charged 50 euros tax, and each _____ has a fixed price of 20 euros  :-) \n",
        "\n",
        "Your final price might look like this: \n",
        "\n",
        "$$finalPrice = 50 + 20 * (article) $$\n",
        "\n",
        "How do we translate this to actual code?\n",
        "\n",
        "- We need some input ( article ) \n",
        "- also some output ( finalPrice ) \n",
        "\n",
        "Try to build two numpy arrays with the information above.\n",
        "\n",
        "**Hint**: numpy arrays are defined as: `np.array([list of values])`\n"
      ]
    },
    {
      "cell_type": "code",
      "execution_count": 0,
      "metadata": {
        "colab": {},
        "colab_type": "code",
        "id": "9m41v3oeZqr6"
      },
      "outputs": [],
      "source": [
        "# Define your input \n",
        "\n",
        "\n",
        "# Define your output (labels)\n",
        "\n"
      ]
    },
    {
      "cell_type": "markdown",
      "metadata": {
        "colab_type": "text",
        "id": "IzkTOiPRbK8-"
      },
      "source": [
        "Let's take a look to some **Keras** definitions before moving on to the model \n",
        "\n",
        "> **tf.Keras TensorFlow's** implementation of the Keras API specification. This is a high-level API to build and train models that includes first-class support for TensorFlow-specific functionality.\n",
        "\n",
        " A model is (usually) a graph of layers, the most basic approach is to use: **Sequential model**, which is a way to essemble your model by stacking layers ( like pancakes ) \n",
        "\n",
        "<div align=\"middle\">\n",
        "<img src=\"https://storage.googleapis.com/devfest-ml/pancakes.png\" width=\"150\")</div>\n",
        "</div>\n",
        "\n",
        "A sequential model receive a list of Layers as an argument :)\n",
        "\n",
        "There are two ways you can create it.\n",
        "\n",
        "- Defining the sequential model and adding layers \n",
        "\n",
        "```\n",
        "model = Sequential()\n",
        "# Ideally your first layer receive an input shape\n",
        "model.add(Dense(32, input_shape=(500,)))\n",
        "# Afterwards, the shape is automatically infered\n",
        "model.add(Dense(32))\n",
        "```\n",
        "\n",
        "- Defining the model and stacking the layers \n",
        "\n",
        "```\n",
        "model = Sequential([\n",
        "  keras.layers.Dense(units=32, input_shape=[500]),\n",
        "  keras.layers.Dense(32)\n",
        "  ])\n",
        "```\n",
        "\n",
        "If you want to learn more checkout [Sequential Documentation](https://www.tensorflow.org/api_docs/python/tf/keras/Sequential)\n",
        "\n",
        "On the other hand, a layer is a regular dense connected layer in NeuralNets definition. \n",
        "\n",
        "Specifically a dense layer implements the operation we just made above.\n",
        "\n",
        "$$y = input(s) * weight(s) + bias $$\n",
        "\n",
        "And the way a keras dense layer does this is by applying\n",
        "\n",
        " `output = activation(dot(input, kernel) + bias)` \n",
        "\n",
        " Where: \n",
        " - input is the input tensor\n",
        " - the kernel is a weight matrix created by the layer \n",
        " - bias is a vector created by the layer \n",
        "\n",
        "**Activity**: \n",
        "\n",
        "Ok, now go ahead and try to create a model with the following: \n",
        "\n",
        "- 1 Layer with only 1 unit output and input of 1\n"
      ]
    },
    {
      "cell_type": "code",
      "execution_count": 0,
      "metadata": {
        "colab": {},
        "colab_type": "code",
        "id": "vR2ciGibbKBX"
      },
      "outputs": [],
      "source": [
        "# Define your model \n"
      ]
    },
    {
      "cell_type": "markdown",
      "metadata": {
        "colab_type": "text",
        "id": "VpWY_bFKJ7bK"
      },
      "source": [
        "## Optimizers and Loss function\n",
        "\n",
        "Now we need to configure our model for training and for doing so, we need to do: \n",
        "\n",
        "```\n",
        "model.compile(....)\n",
        "```\n",
        "\n",
        "The following parameters need to be chosen: \n",
        "\n",
        "* [loss function](https://tensorflow.org/api_docs/python/tf/losses): this will allow you to measure how good your prediction was against the real label. \n",
        "* [optimizer](https://www.tensorflow.org/api_docs/python/tf/keras/optimizers): as we go on the trainining, ideally we would like to tweak and change the weights the parameters, and this is the work the optimizer does.\n",
        "* and optionally, some [metrics](https://www.tensorflow.org/api_docs/python/tf/keras/metrics) to monitor, You can store and retrieve metrics out from your model.\n",
        "\n",
        "If you want to understand more about Loss Function, Cost function and Optimizers, I invite you to read: [Parameter optimization in neural networks](https://deeplearning.ai/ai-notes/optimization/?utm_campaign=BlogAINotesOptimizationNovember122019&utm_content=105388620&utm_medium=social&utm_source=linkedin&hss_channel=lcp-18246783)\n",
        "\n",
        "**Activity**: Now go to back to the code and configure your model to be compiled with the following: \n",
        "\n",
        "- loss function: mean_squared_error\n",
        "- Optimizer: stochastic gradient descent (sgd) \n",
        "- metric: accuracy"
      ]
    },
    {
      "cell_type": "code",
      "execution_count": 0,
      "metadata": {
        "colab": {},
        "colab_type": "code",
        "id": "sD6ovpm-J6UL"
      },
      "outputs": [],
      "source": [
        "# Configure your model for training \n",
        "\n"
      ]
    },
    {
      "cell_type": "markdown",
      "metadata": {
        "colab_type": "text",
        "id": "niPRMbf6bw0O"
      },
      "source": [
        "\n",
        "Finally you get to train your model. In this step you will tell your model how many iterations it will do for training. You will also give the input features, and the labels matching those input features, as parameters.\n",
        "\n",
        "For example, imagine you are giving the number of books to buy as 5, and the real price ( label ) will be 150.\n",
        "\n",
        "The method in tensorflow for training your model is called: **[fit](https://www.tensorflow.org/api_docs/python/tf/keras/Model#fit)**\n",
        "\n",
        "**Activity**: Now that you have learned more about this method :) Go ahead and train your model with the following parameters: \n",
        "\n",
        "- Your input parameters ( # articles ) \n",
        "- Your output or labels ( real price value )\n",
        "- 1000 iterations \n",
        "\n",
        "\n"
      ]
    },
    {
      "cell_type": "code",
      "execution_count": 0,
      "metadata": {
        "colab": {},
        "colab_type": "code",
        "id": "l-StzICFbulV"
      },
      "outputs": [],
      "source": [
        "# Train your model \n",
        "\n"
      ]
    },
    {
      "cell_type": "markdown",
      "metadata": {
        "colab_type": "text",
        "id": "bbEDNgBAd6-b"
      },
      "source": [
        "Finally try to get a prediction and see what happens :-) \n",
        "\n",
        "Ideally you will call your prediction with a feature or a set of features to predict on. \n",
        "\n",
        "For example: \n",
        "\n",
        "`model.predict([7.0])`"
      ]
    },
    {
      "cell_type": "code",
      "execution_count": 0,
      "metadata": {
        "colab": {},
        "colab_type": "code",
        "id": "wFPYOl1sbwAL"
      },
      "outputs": [],
      "source": [
        "# Try to get a prediction\n"
      ]
    },
    {
      "cell_type": "markdown",
      "metadata": {
        "colab_type": "text",
        "id": "Vw8YJ_w4jUFT"
      },
      "source": [
        "## **Congratulations !!!**\n",
        "\n",
        "<div align=\"middle\">\n",
        "<img src=\"https://storage.googleapis.com/devfest-ml/boom.png\" width=300>\n",
        "</div>\n",
        "\n",
        "#### You got this far and you have created your first **Machine Learning Model** using **Tensorflow and Keras** :-) \n",
        "\n",
        "Now it's time to go deeeeper and try out something more complex :)\n",
        "\n"
      ]
    }
  ]
}